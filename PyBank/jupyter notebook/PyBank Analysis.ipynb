{
 "cells": [
  {
   "cell_type": "markdown",
   "metadata": {},
   "source": [
    "# Analyzing Financial Data Using Python"
   ]
  },
  {
   "cell_type": "code",
   "execution_count": 1,
   "metadata": {},
   "outputs": [],
   "source": [
    "# Import os and cvs module / Dependencies\n",
    "import os\n",
    "import csv\n",
    "\n",
    "# Set path for the file import and export\n",
    "csvpath = os.path.join(\"budget_data.csv\")\n",
    "# print(csvpath)\n",
    "\n",
    "file_to_output = os.path.join(\"pybank_financial_analysis_Michelle_Handipranata.txt\")"
   ]
  },
  {
   "cell_type": "code",
   "execution_count": 2,
   "metadata": {},
   "outputs": [],
   "source": [
    "# Track the parameters\n",
    "total_months = 0\n",
    "month_of_change = []\n",
    "profit_change_list = []\n",
    "max_increase = [\"\", 0]\n",
    "max_decrease = [\"\", 9999999999999999999999999]\n",
    "total_profit = 0"
   ]
  },
  {
   "cell_type": "code",
   "execution_count": 3,
   "metadata": {},
   "outputs": [
    {
     "name": "stdout",
     "output_type": "stream",
     "text": [
      "\n",
      "Financial Analysis\n",
      "==========================\n",
      "Total Months: 86\n",
      "Total: $38382578\n",
      "Average Change: $-2315.12\n",
      "Greatest Increase In Profits Feb-2012, ($1926159)\n",
      "Greatest Decrease In Profits Sep-2013, ($-2196167)\n",
      "\n"
     ]
    }
   ],
   "source": [
    "# Open csv and read the data\n",
    "with open(csvpath, newline= \"\") as csv_budget:\n",
    "    budget_reader = csv.reader(csv_budget, delimiter = \",\")\n",
    "    # print(budget_reader)\n",
    "    \n",
    "    # We want to skip the header\n",
    "    budget_header = next(budget_reader)\n",
    "    # print(budget_header)\n",
    "    \n",
    "    # Extract the value in the first row\n",
    "    first_row = next(budget_reader)\n",
    "    # print(first_row)\n",
    "    \n",
    "    total_months = total_months + 1\n",
    "    \n",
    "    total_profit = total_profit + int(first_row[1])\n",
    "    prev_profit = int(first_row[1])\n",
    "    # print(total_profit)\n",
    "    # print(prev_profit)\n",
    "    \n",
    "    # Read each row after the header\n",
    "    for data in budget_reader:\n",
    "        \n",
    "        # Calculate the total months\n",
    "        total_months = total_months + 1\n",
    "        \n",
    "        # Calculate the total profit/losses\n",
    "        total_profit = total_profit + int(data[1])\n",
    "        # print(total_profit)\n",
    "        \n",
    "        # Calculate the change of profit/losses\n",
    "        profit_change = int(data[1]) - prev_profit\n",
    "        prev_profit = int(data[1])\n",
    "        \n",
    "        # Track the change of profit/losses\n",
    "        # profit_change_list = profit_change_list + [profit_change]\n",
    "        profit_change_list.append(profit_change)\n",
    "            \n",
    "        # Track the change of Month\n",
    "        # month_of_change = month_of_change + [data[0]]\n",
    "        date = data[0]\n",
    "        month_of_change.append(date)\n",
    "            \n",
    "        if profit_change > max_increase[1]:\n",
    "            max_increase[0] = data[0]\n",
    "            max_increase[1] = profit_change\n",
    "        \n",
    "        if profit_change < max_decrease[1]:\n",
    "            max_decrease[0] = data[0]\n",
    "            max_decrease[1] = profit_change\n",
    "            \n",
    "    # Calculate the average of change in profit/losses\n",
    "    profit_monthly_avg = sum(profit_change_list) / len(profit_change_list)\n",
    "    \n",
    "    # print(profit_monthly_avg)   \n",
    "    # print(month_of_change)\n",
    "    # print(profit_change_list)\n",
    "    \n",
    "with open(file_to_output, \"w\") as txt_file:\n",
    "    \n",
    "    output = (\n",
    "            f\"\\nFinancial Analysis\\n\"\n",
    "            f\"==========================\\n\"\n",
    "            f\"Total Months: {total_months}\\n\"\n",
    "            f\"Total: ${total_profit}\\n\"\n",
    "            f\"Average Change: ${profit_monthly_avg:.2f}\\n\"\n",
    "            f\"Greatest Increase In Profits {max_increase[0]}, (${max_increase[1]})\\n\"\n",
    "            f\"Greatest Decrease In Profits {max_decrease[0]}, (${max_decrease[1]})\\n\"\n",
    "    )\n",
    "    \n",
    "    print(output)\n",
    "        \n",
    "    # Save the result to the text file\n",
    "    txt_file.write(output)\n",
    "    "
   ]
  },
  {
   "cell_type": "code",
   "execution_count": null,
   "metadata": {},
   "outputs": [],
   "source": []
  },
  {
   "cell_type": "code",
   "execution_count": null,
   "metadata": {},
   "outputs": [],
   "source": []
  }
 ],
 "metadata": {
  "kernelspec": {
   "display_name": "Python 3",
   "language": "python",
   "name": "python3"
  },
  "language_info": {
   "codemirror_mode": {
    "name": "ipython",
    "version": 3
   },
   "file_extension": ".py",
   "mimetype": "text/x-python",
   "name": "python",
   "nbconvert_exporter": "python",
   "pygments_lexer": "ipython3",
   "version": "3.7.4"
  }
 },
 "nbformat": 4,
 "nbformat_minor": 2
}
